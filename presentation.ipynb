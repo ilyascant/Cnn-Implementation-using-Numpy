{
 "cells": [
  {
   "cell_type": "code",
   "execution_count": 107,
   "metadata": {},
   "outputs": [],
   "source": [
    "import pickle\n",
    "import random\n",
    "import multiprocessing \n",
    "\n",
    "import numpy as np\n",
    "import matplotlib.pyplot as plt\n",
    "import pandas as pd\n",
    "from tqdm import tqdm\n",
    "\n",
    "import cv2\n",
    "import random"
   ]
  },
  {
   "cell_type": "code",
   "execution_count": 108,
   "metadata": {},
   "outputs": [],
   "source": [
    "class Settings:\n",
    "    @classmethod\n",
    "    def show_img(cls, img, figsize=(8, 4), subplot=(1, 2, 1)):\n",
    "        plt.figure(figsize=figsize)\n",
    "        plt.subplot(*subplot)\n",
    "        plt.imshow(img, cmap=\"gray\", interpolation='nearest')\n",
    "        plt.show()\n",
    "\n",
    "    @classmethod\n",
    "    def randomize_images(cls, x_datas, y_datas=None):\n",
    "        new_x_datas = np.zeros_like(x_datas)\n",
    "        new_y_datas = np.zeros_like(y_datas)\n",
    "\n",
    "        for i, data in enumerate(tqdm(x_datas)):\n",
    "            _data = x_datas[i].reshape(28, 28) \n",
    "\n",
    "            # Random scale\n",
    "            scale_factor = np.random.uniform(0.9, 1.1)\n",
    "            scaled_image = cv2.resize(_data, None, fx=scale_factor, fy=scale_factor)\n",
    "\n",
    "            # Random rotation\n",
    "            angle = np.random.uniform(-45, 45)\n",
    "            rows, cols = _data.shape\n",
    "            rotation_matrix = cv2.getRotationMatrix2D((cols / 2, rows / 2), angle, 1)\n",
    "            rotated_image = cv2.warpAffine(scaled_image, rotation_matrix, (cols, rows))\n",
    "\n",
    "            # Random translation (offset)\n",
    "            dx, dy = np.random.randint(-2, 2, size=2)  # Random integers between -2 and 2 for x and y translation\n",
    "            translation_matrix = np.float32([[1, 0, dx], [0, 1, dy]])  # Translation matrix\n",
    "            translated_image = cv2.warpAffine(rotated_image, translation_matrix, (cols, rows))\n",
    "\n",
    "            # Add a little bit of noise\n",
    "            probability = random.uniform(0, 0.1)\n",
    "            noise_mask = np.random.random(translated_image.shape) <= probability\n",
    "            noise_strength = np.random.random(translated_image.shape) - 0.5\n",
    "            noise_value = translated_image * noise_strength\n",
    "            noisy_image = np.clip(translated_image + np.where(noise_mask, noise_value + noise_strength, translated_image), 0, 1)\n",
    "\n",
    "            if y_datas is not None:\n",
    "                new_x_datas[i] = noisy_image.reshape(1, -1)\n",
    "                new_y_datas[i] = np.array([y_datas[i]])\n",
    "            else:\n",
    "                x_datas[i] = noisy_image.reshape(784)\n",
    "\n",
    "        if y_datas is not None:\n",
    "            x_datas = np.concatenate((x_datas, new_x_datas), axis=0)\n",
    "            y_datas = np.concatenate((y_datas, new_y_datas), axis=0)\n",
    "\n",
    "        return x_datas, y_datas\n"
   ]
  },
  {
   "cell_type": "code",
   "execution_count": 109,
   "metadata": {},
   "outputs": [],
   "source": [
    "class ActivationLayer:\n",
    "    \"\"\"\n",
    "    Aktivasyon katmanlarini iceren Static Fonksiyon \n",
    "    \"\"\"\n",
    "    @classmethod\n",
    "    def ReLU(cls, Z):\n",
    "        return np.maximum(0, Z)\n",
    "    \n",
    "    @classmethod\n",
    "    def softmax(cls, Z):\n",
    "        out = np.exp(Z)\n",
    "        return out/np.sum(out)\n",
    "\n",
    "    @classmethod\n",
    "    def sigmoid(cls, Z):\n",
    "        Z_clipped = np.clip(Z, -255, 255)\n",
    "        return 1 / (1 + np.exp(-Z_clipped))"
   ]
  },
  {
   "cell_type": "code",
   "execution_count": 110,
   "metadata": {},
   "outputs": [],
   "source": [
    "class PoolLayer2D:\n",
    "    \"\"\"\n",
    "    Pooling Katmani goruntunu boyutunu dusurmeye yarar \n",
    "    \"\"\"\n",
    "    def nanargmax(self, arr):\n",
    "        idx = np.nanargmax(arr)\n",
    "        idxs = np.unravel_index(idx, arr.shape)\n",
    "        return idxs    \n",
    "\n",
    "    def maxpool(self, image, kernel_size=2, stride=2):\n",
    "        (imageChannel, ix, iy) = image.shape\n",
    "\n",
    "        w = int((ix - kernel_size)/stride)+1\n",
    "        h = int((iy - kernel_size)/stride)+1\n",
    "\n",
    "        output = np.zeros((imageChannel, w, h))\n",
    "\n",
    "        for n in range(imageChannel): \n",
    "            out_x = 0\n",
    "            for x in range(0, ix - kernel_size + 1, stride):\n",
    "                out_y = 0\n",
    "                for y in range(0, iy - kernel_size + 1, stride):\n",
    "                    output[n, out_x, out_y] = np.max(image[n, x:x+kernel_size, y:y+kernel_size])\n",
    "                    out_y += 1\n",
    "                out_x += 1\n",
    "\n",
    "        return output\n",
    "    \n",
    "\n",
    "    def maxpoolBackward(self, dPool, conv_in, kernel_size, stride):\n",
    "        (imageChannel, ix, iy) = conv_in.shape\n",
    "\n",
    "        output = np.zeros(conv_in.shape)\n",
    "\n",
    "        for n in range(imageChannel): \n",
    "            out_x = 0\n",
    "            for x in range(0, ix - kernel_size + 1, stride):\n",
    "                out_y = 0\n",
    "                for y in range(0, iy - kernel_size + 1, stride):\n",
    "                    (a, b) = self.nanargmax(conv_in[n, x:x+kernel_size, y:y+kernel_size])\n",
    "                    output[n, x+a, y+b] = dPool[n, out_x, out_y]\n",
    "                    out_y += 1\n",
    "                out_x += 1\n",
    "\n",
    "        return output"
   ]
  },
  {
   "cell_type": "code",
   "execution_count": 111,
   "metadata": {},
   "outputs": [],
   "source": [
    "class Convolution2D:\n",
    "    \"\"\"\n",
    "    2D convolution katman implemantasyonu.\n",
    "    \"\"\"\n",
    "    def convolution(self, image, kernel, bias, stride=1):\n",
    "        \"\"\"\n",
    "        Kernel'lerin (Filtrelerin) uygulanarak ozellik ortaya cikmasini saglar\n",
    "        kernel kadar output cikisi olur  \n",
    "        \"\"\"\n",
    "        (numberOfFilter, filterChannel, fx, fy) = kernel.shape\n",
    "        (imageChannel, ix, iy) = image.shape\n",
    "\n",
    "        output_shape = int((ix - fx) / stride) + 1\n",
    "        output = np.zeros((numberOfFilter, output_shape, output_shape))\n",
    "\n",
    "        for n in range(numberOfFilter):\n",
    "            out_x = 0\n",
    "            for x in range(0, ix - fx + 1, stride):\n",
    "                out_y = 0\n",
    "                for y in range(0, iy - fy + 1, stride):\n",
    "                    output[n, out_x, out_y] = np.sum(np.multiply(kernel[n], image[:, x:x+fx, y:y+fy])) + bias[n, 0]\n",
    "                    out_y += 1\n",
    "                out_x += 1\n",
    "\n",
    "        return output\n",
    "        \n",
    "    def convolutionBackward(self, dConv_prev, conv_in, kernel, stride):\n",
    "        (numberOfFilter, filterChannel, fx, fy) = kernel.shape\n",
    "        (imageChannel, ix, iy) = conv_in.shape\n",
    "\n",
    "        dOut = np.zeros(conv_in.shape)\n",
    "        dFilt = np.zeros(kernel.shape)\n",
    "        dBias = np.zeros((numberOfFilter, 1))\n",
    "\n",
    "        for n in range(numberOfFilter):\n",
    "            out_x = 0\n",
    "            for x in range(0, ix - fx + 1, stride):\n",
    "                out_y = 0\n",
    "                for y in range(0, iy - fy + 1, stride):\n",
    "                    dOut[:, x:x+fx, y:y+fy] += dConv_prev[n, out_x, out_y] * kernel[n]\n",
    "                    dFilt[n] += dConv_prev[n, out_x, out_y] * conv_in[:, x:x+fx, y:y+fy]\n",
    "                    out_y += 1\n",
    "                out_x += 1\n",
    "        \n",
    "            dBias[n] = np.sum(dConv_prev[n])\n",
    "\n",
    "        return dOut, dFilt, dBias\n"
   ]
  },
  {
   "cell_type": "code",
   "execution_count": 112,
   "metadata": {},
   "outputs": [],
   "source": [
    "class CNN:\n",
    "    \"\"\"\n",
    "    Convulution islemi tamamlandiktan sonra\n",
    "    Fully Connected Layer adimini bu class' ta gerceklestiri\n",
    "    \"\"\"\n",
    "    def __init__(self, X: np.ndarray, y: np.ndarray, X_val: np.ndarray, y_val: np.ndarray,\n",
    "               kernel_size=(5, 5), pool_size: tuple = (2, 2),\n",
    "               img_depth: int = 1, num_filt2: int = 5, num_filt1: int = 5,\n",
    "               alpha: float = 0.005):\n",
    "\n",
    "        \n",
    "        self.X = X\n",
    "        self.y = y\n",
    "        self.train_data = np.hstack((X, y))\n",
    "        self.X_val = X_val\n",
    "        self.y_val = y_val\n",
    "\n",
    "        self.pool_size = pool_size\n",
    "        self.kernel_size = kernel_size\n",
    "        self.img_depth = img_depth\n",
    "        self.num_filt2 = num_filt2\n",
    "        self.num_filt1 = num_filt1\n",
    "        self.alpha = alpha\n",
    "\n",
    "        self.init_params()\n",
    "\n",
    "    def init_params(self):\n",
    "        self.conv2D = Convolution2D()\n",
    "        self.pool2D = PoolLayer2D()\n",
    "\n",
    "        self.f1, self.f2, self.w3, self.w4 = (self.num_filt1 ,self.img_depth,*self.kernel_size), (self.num_filt2 ,self.num_filt1,*self.kernel_size), (10, 500), (10, 10)\n",
    "        self.f1 = self.initializeFilter(self.f1)\n",
    "        self.f2 = self.initializeFilter(self.f2)\n",
    "        self.w3 = self.initializeWeight(self.w3)\n",
    "        self.w4 = self.initializeWeight(self.w4)\n",
    "\n",
    "        self.b1 = np.zeros((self.f1.shape[0],1))\n",
    "        self.b2 = np.zeros((self.f2.shape[0],1))\n",
    "        self.b3 = np.zeros((self.w3.shape[0],1))\n",
    "        self.b4 = np.zeros((self.w4.shape[0],1))\n",
    "\n",
    "        self.v1 = np.zeros(self.f1.shape)\n",
    "        self.v2 = np.zeros(self.f2.shape)\n",
    "        self.v3 = np.zeros(self.w3.shape)\n",
    "        self.v4 = np.zeros(self.w4.shape)\n",
    "        self.bv1 = np.zeros(self.b1.shape)\n",
    "        self.bv2 = np.zeros(self.b2.shape)\n",
    "        self.bv3 = np.zeros(self.b3.shape)\n",
    "        self.bv4 = np.zeros(self.b4.shape)\n",
    "        self.s1 = np.zeros(self.f1.shape)\n",
    "        self.s2 = np.zeros(self.f2.shape)\n",
    "        self.s3 = np.zeros(self.w3.shape)\n",
    "        self.s4 = np.zeros(self.w4.shape)\n",
    "        self.bs1 = np.zeros(self.b1.shape)\n",
    "        self.bs2 = np.zeros(self.b2.shape)\n",
    "        self.bs3 = np.zeros(self.b3.shape)\n",
    "        self.bs4 = np.zeros(self.b4.shape)\n",
    "\n",
    "        self.t = 0\n",
    "\n",
    "    def initializeFilter(self, size, scale = 1.0):\n",
    "        stddev = scale/np.sqrt(np.prod(size))\n",
    "        return np.random.normal(loc = 0, scale = stddev, size = size)\n",
    "\n",
    "    def initializeWeight(self, size):\n",
    "        return np.random.standard_normal(size=size) * 0.01\n",
    "\n",
    "    def forward_prop(self, image, conv_stride, pool_size, pool_stride):\n",
    "        self.conv1 = self.conv2D.convolution(image, self.f1, self.b1, conv_stride)\n",
    "        self.conv1 = ActivationLayer.ReLU(self.conv1)\n",
    "\n",
    "        self.conv2 = self.conv2D.convolution(self.conv1, self.f2, self.b2, conv_stride)\n",
    "        self.conv2 = ActivationLayer.ReLU(self.conv2)\n",
    "\n",
    "        self.pooled = self.pool2D.maxpool(self.conv2, pool_size, pool_stride) \n",
    "\n",
    "        (nf2, dim1, dim2) = self.pooled.shape\n",
    "        self.fc = self.pooled.reshape((nf2 * dim1 * dim2, 1)) \n",
    "        \n",
    "        self.z = self.w3.dot(self.fc) + self.b3\n",
    "        self.z = ActivationLayer.ReLU(self.z)\n",
    "\n",
    "        self.out = self.w4.dot(self.z) + self.b4\n",
    "        probs = ActivationLayer.softmax(self.out)\n",
    "        \n",
    "        return probs\n",
    "\n",
    "    def dropout(self, X, dropout_rate):\n",
    "        mask = (np.random.rand(*X.shape) < (1 - dropout_rate)) / (1 - dropout_rate)\n",
    "        return X * mask\n",
    "    \n",
    "    def categorical_cross_entropy(self, probs, label, epsilon=1e-10):\n",
    "        probs = np.clip(probs, epsilon, 1 - epsilon)  \n",
    "        return -np.sum(label * np.log(probs))\n",
    "    \n",
    "    def softmax_crossentropy_loss(self, label, probs):\n",
    "        eps = 1e-12  \n",
    "        m = probs.shape[0]  \n",
    "        loss = -np.sum(probs * np.log(label + eps)) / m\n",
    "        return loss\n",
    "            \n",
    "    def backward_prop(self, probs, image, label, conv_stride, pool_size, pool_stride):\n",
    "        \"\"\"\n",
    "            Egime gore degismesi gereken araligi bul \n",
    "        \"\"\"\n",
    "        dout = probs - label\n",
    "        dw4 = dout.dot(self.z.T)\n",
    "        db4 = np.sum(dout, axis=1).reshape(self.b4.shape)\n",
    "\n",
    "        dz = self.w4.T.dot(dout)\n",
    "        dz[self.z<=0] = 0\n",
    "\n",
    "        dw3 = dz.dot(self.fc.T)\n",
    "        db3 = np.sum(dz, axis=1).reshape(self.b3.shape)\n",
    "\n",
    "        dFc = self.w3.T.dot(dz)\n",
    "        dpool = dFc.reshape(self.pooled.shape)\n",
    "\n",
    "        dconv2 = self.pool2D.maxpoolBackward(dpool, self.conv2, pool_size, pool_stride) \n",
    "        dconv2[self.conv2<=0] = 0\n",
    "\n",
    "        dconv1, df2, db2 = self.conv2D.convolutionBackward(dconv2, self.conv1, self.f2, conv_stride)\n",
    "        dconv1[self.conv1<=0] = 0\n",
    "\n",
    "        dimage, df1, db1 = self.conv2D.convolutionBackward(dconv1, image, self.f1, conv_stride)\n",
    "\n",
    "        return df1, db1, df2, db2, dw3, db3, dw4, db4\n",
    "\n",
    "    def adamGD(self, batch, costs, beta1, beta2, conv_stride = 1, pool_size = 2, pool_stride = 2):\n",
    "        X = batch[:,0:-1] \n",
    "        X = X.reshape(len(batch), 1, 28, 28)\n",
    "        Y = batch[:,-1]\n",
    "\n",
    "        cost = 0\n",
    "        batch_size = len(batch)\n",
    "\n",
    "        df1 = np.zeros(self.f1.shape)\n",
    "        df2 = np.zeros(self.f2.shape)\n",
    "        dw3 = np.zeros(self.w3.shape)\n",
    "        dw4 = np.zeros(self.w4.shape)\n",
    "        db1 = np.zeros(self.b1.shape)\n",
    "        db2 = np.zeros(self.b2.shape)\n",
    "        db3 = np.zeros(self.b3.shape)\n",
    "        db4 = np.zeros(self.b4.shape)\n",
    "\n",
    "        for i in range(batch_size):\n",
    "            x = X[i]\n",
    "            y = np.eye(10)[int(Y[i])].reshape(10, 1)\n",
    "\n",
    "            probs = self.forward_prop(x, conv_stride, pool_size, pool_stride,)\n",
    "            loss = self.categorical_cross_entropy(probs, y)\n",
    "            df1_, db1_, df2_, db2_, dw3_, db3_, dw4_, db4_= self.backward_prop(probs, x, y, conv_stride, pool_size, pool_stride,)\n",
    "            \n",
    "            df1+=df1_\n",
    "            db1+=db1_\n",
    "            df2+=df2_\n",
    "            db2+=db2_\n",
    "            dw3+=dw3_\n",
    "            db3+=db3_\n",
    "            dw4+=dw4_\n",
    "            db4+=db4_\n",
    "            \n",
    "            cost += loss\n",
    "\n",
    "        self.v1 = beta1*self.v1 + (1-beta1)*df1/batch_size\n",
    "        self.s1 = beta2*self.s1 + (1-beta2)*(df1/batch_size)**2\n",
    "        v1_hat = self.v1 / (1 - beta1 ** self.t)\n",
    "        s1_hat = self.s1 / (1 - beta2 ** self.t)\n",
    "        self.f1 -= self.alpha * v1_hat/np.sqrt(s1_hat+1e-7)\n",
    "        \n",
    "        self.bv1 = beta1*self.bv1 + (1-beta1)*db1/batch_size\n",
    "        self.bs1 = beta2*self.bs1 + (1-beta2)*(db1/batch_size)**2\n",
    "        bv1_hat = self.bv1 / (1 - beta1 ** self.t)\n",
    "        bs1_hat = self.bs1 / (1 - beta2 ** self.t)\n",
    "        self.b1 -= self.alpha * bv1_hat/np.sqrt(bs1_hat+1e-7)\n",
    "    \n",
    "        self.v2 = beta1*self.v2 + (1-beta1)*df2/batch_size\n",
    "        self.s2 = beta2*self.s2 + (1-beta2)*(df2/batch_size)**2\n",
    "        v2_hat = self.v2 / (1 - beta1 ** self.t)\n",
    "        s2_hat = self.s2 / (1 - beta2 ** self.t)\n",
    "        self.f2 -= self.alpha * v2_hat/np.sqrt(s2_hat+1e-7)\n",
    "                        \n",
    "        self.bv2 = beta1*self.bv2 + (1-beta1) * db2/batch_size\n",
    "        self.bs2 = beta2*self.bs2 + (1-beta2)*(db2/batch_size)**2\n",
    "        bv2_hat = self.bv2 / (1 - beta1 ** self.t)\n",
    "        bs2_hat = self.bs2 / (1 - beta2 ** self.t)\n",
    "        self.b2 -= self.alpha * bv2_hat/np.sqrt(bs2_hat+1e-7)\n",
    "        \n",
    "        self.v3 = beta1*self.v3 + (1-beta1) * dw3/batch_size\n",
    "        self.s3 = beta2*self.s3 + (1-beta2)*(dw3/batch_size)**2\n",
    "        v3_hat = self.v3 / (1 - beta1 ** self.t)\n",
    "        s3_hat = self.s3 / (1 - beta2 ** self.t)\n",
    "        self.w3 -= self.alpha * v3_hat/np.sqrt(s3_hat+1e-7)\n",
    "        \n",
    "        self.bv3 = beta1*self.bv3 + (1-beta1) * db3/batch_size\n",
    "        self.bs3 = beta2*self.bs3 + (1-beta2)*(db3/batch_size)**2\n",
    "        bv3_hat = self.bv3 / (1 - beta1 ** self.t)\n",
    "        bs3_hat = self.bs3 / (1 - beta2 ** self.t)\n",
    "        self.b3 -= self.alpha * bv3_hat/np.sqrt(bs3_hat+1e-7)\n",
    "        \n",
    "        self.v4 = beta1*self.v4 + (1-beta1) * dw4/batch_size\n",
    "        self.s4 = beta2*self.s4 + (1-beta2)*(dw4/batch_size)**2\n",
    "        v4_hat = self.v4 / (1 - beta1 ** self.t)\n",
    "        s4_hat = self.s4 / (1 - beta2 ** self.t)\n",
    "        self.w4 -= self.alpha * v4_hat / np.sqrt(s4_hat+1e-7)\n",
    "        \n",
    "        self.bv4 = beta1*self.bv4 + (1-beta1)*db4/batch_size\n",
    "        self.bs4 = beta2*self.bs4 + (1-beta2)*(db4/batch_size)**2\n",
    "        bv4_hat = self.bv4 / (1 - beta1 ** self.t)\n",
    "        bs4_hat = self.bs4 / (1 - beta2 ** self.t)\n",
    "        self.b4 -= self.alpha * bv4_hat / np.sqrt(bs4_hat+1e-7)\n",
    "\n",
    "        cost = cost / batch_size\n",
    "        costs.append(cost)\n",
    "\n",
    "        return costs\n",
    "\n",
    "\n",
    "    def train(self, epochs=10, batch_size=32, beta1=0.95, beta2=0.99):\n",
    "        val_costs, costs = [], []\n",
    "\n",
    "        print(\"LR:\"+str(self.alpha)+\", Batch Size:\"+str(batch_size))\n",
    "        \n",
    "        for epoch in range(epochs):\n",
    "            np.random.shuffle(self.X)\n",
    "            batches = [self.train_data[k:k + batch_size] for k in range(0, self.X.shape[0], batch_size)]\n",
    "            \n",
    "            t = tqdm(batches)\n",
    "            for index, batch in enumerate(t):\n",
    "                self.adamGD(batch, costs, beta1, beta2)\n",
    "                t.set_description(\"Epoch: %d, Cost: %.2f, Batch Size: %d, Alpha: %f \" % ((epoch +1), costs[-1], batch_size, self.alpha))\n",
    "\n",
    "        return costs\n",
    "    \n",
    "    def predict(self, image, conv_s = 1, pool_f = 2, pool_s = 2):\n",
    "        \n",
    "        probs = self.forward_prop(image, conv_s, pool_f, pool_s)\n",
    "        \n",
    "        return np.argmax(probs), np.max(probs)"
   ]
  },
  {
   "cell_type": "code",
   "execution_count": 113,
   "metadata": {},
   "outputs": [],
   "source": [
    "DATA = np.asarray(pd.read_csv(\"train.csv\"), dtype=\"float64\")"
   ]
  },
  {
   "cell_type": "code",
   "execution_count": 114,
   "metadata": {},
   "outputs": [],
   "source": [
    "np.random.seed(0)\n",
    "np.random.shuffle(DATA)"
   ]
  },
  {
   "cell_type": "code",
   "execution_count": 115,
   "metadata": {},
   "outputs": [
    {
     "name": "stderr",
     "output_type": "stream",
     "text": [
      "100%|██████████| 41000/41000 [00:08<00:00, 4873.84it/s]\n"
     ]
    }
   ],
   "source": [
    "m, n = DATA.shape\n",
    "data_train = DATA[1000: m].copy() \n",
    "\n",
    "y_train = data_train[:, 0].reshape(m - 1000, 1)\n",
    "X_train = data_train[:, 1:n] / 255.0\n",
    "\n",
    "X_train, y_train = Settings.randomize_images(X_train, y_datas=y_train)\n",
    "\n",
    "mean_test = X_train.mean().astype(np.float64)\n",
    "std_test = X_train.std().astype(np.float64)\n",
    "X_train = (X_train - mean_test) / (std_test)"
   ]
  },
  {
   "cell_type": "code",
   "execution_count": 116,
   "metadata": {},
   "outputs": [
    {
     "data": {
      "text/plain": [
       "(82000, 784)"
      ]
     },
     "execution_count": 116,
     "metadata": {},
     "output_type": "execute_result"
    }
   ],
   "source": [
    "X_train.shape"
   ]
  },
  {
   "cell_type": "code",
   "execution_count": 117,
   "metadata": {},
   "outputs": [
    {
     "name": "stderr",
     "output_type": "stream",
     "text": [
      "100%|██████████| 1000/1000 [00:00<00:00, 4686.79it/s]\n"
     ]
    }
   ],
   "source": [
    "m, n = DATA.shape\n",
    "data_test = DATA[0: 1000].copy()\n",
    "\n",
    "y_test = data_test[:, 0].reshape(1000,1)\n",
    "X_test = data_test[:, 1:n] / 255.0\n",
    "\n",
    "\n",
    "X_test , y_test = Settings.randomize_images(X_test, y_datas=y_test)\n",
    "\n",
    "mean_test = X_test.mean().astype(np.float64)\n",
    "std_test = X_test.std().astype(np.float64)\n",
    "X_test = (X_test - mean_test) / (std_test)\n",
    "\n",
    "test_data = np.hstack((X_test, y_test))\n",
    "X_test = test_data[:,0:-1]\n",
    "X_test = X_test.reshape(len(test_data), 1, 28, 28)\n",
    "y_test = test_data[:,-1]"
   ]
  },
  {
   "cell_type": "code",
   "execution_count": 118,
   "metadata": {},
   "outputs": [
    {
     "name": "stdout",
     "output_type": "stream",
     "text": [
      "[0.]\n",
      "0.027133054645304345\n"
     ]
    },
    {
     "data": {
      "image/png": "[encoded data removed]",
      "text/plain": [
       "<Figure size 800x400 with 1 Axes>"
      ]
     },
     "metadata": {},
     "output_type": "display_data"
    }
   ],
   "source": [
    "im_idx = random.randint(X_train.shape[0]//2, X_train.shape[0])\n",
    "print(y_train[im_idx])\n",
    "print(random.uniform(0, 0.1))\n",
    "Settings.show_img(X_train[im_idx].reshape(28,28))"
   ]
  },
  {
   "cell_type": "code",
   "execution_count": 119,
   "metadata": {},
   "outputs": [],
   "source": [
    "cnn = CNN(X_train, y_train, X_test, y_test)"
   ]
  },
  {
   "cell_type": "code",
   "execution_count": 120,
   "metadata": {},
   "outputs": [],
   "source": [
    "# cnn.train()"
   ]
  },
  {
   "cell_type": "code",
   "execution_count": 121,
   "metadata": {},
   "outputs": [],
   "source": [
    "model_filename = 'cnn_model_L0-14704789_R95532597.pkl'\n",
    "\n",
    "# Load the model\n",
    "with open(model_filename, 'rb') as file:\n",
    "    cnn = pickle.load(file)"
   ]
  },
  {
   "cell_type": "code",
   "execution_count": 122,
   "metadata": {},
   "outputs": [
    {
     "name": "stderr",
     "output_type": "stream",
     "text": [
      "Acc:94.00%: 100%|██████████| 2000/2000 [03:20<00:00,  9.95it/s]"
     ]
    },
    {
     "name": "stdout",
     "output_type": "stream",
     "text": [
      "Overall Accuracy: 94.00\n"
     ]
    },
    {
     "name": "stderr",
     "output_type": "stream",
     "text": [
      "\n"
     ]
    }
   ],
   "source": [
    "corr = 0\n",
    "digit_count = [0 for i in range(10)]\n",
    "digit_correct = [0 for i in range(10)]\n",
    "\n",
    "print()\n",
    "print(\"Computing accuracy over test set:\")\n",
    "\n",
    "t = tqdm(range(len(X_test)), leave=True)\n",
    "for n in t:\n",
    "    x = X_test[n]\n",
    "    pred, prob = cnn.predict(x, 1, 2, 2)\n",
    "    digit_count[int(y_test[n])] += 1\n",
    "    if pred == y_test[n]:\n",
    "        corr += 1\n",
    "        digit_correct[pred] += 1\n",
    "\n",
    "    t.set_description(\"Acc:%0.2f%%\" % (float(corr / (n + 1)) * 100))\n",
    "\n",
    "print(\"Overall Accuracy: %.2f\" % (float(corr / len(test_data) * 100)))"
   ]
  },
  {
   "cell_type": "code",
   "execution_count": 123,
   "metadata": {},
   "outputs": [
    {
     "name": "stderr",
     "output_type": "stream",
     "text": [
      "Acc:97.80%: 100%|██████████| 1000/1000 [02:11<00:00,  7.61it/s]"
     ]
    },
    {
     "name": "stdout",
     "output_type": "stream",
     "text": [
      "Overall Accuracy: 97.80\n"
     ]
    },
    {
     "name": "stderr",
     "output_type": "stream",
     "text": [
      "\n"
     ]
    }
   ],
   "source": [
    "corr = 0\n",
    "digit_count = [0 for i in range(10)]\n",
    "digit_correct = [0 for i in range(10)]\n",
    "\n",
    "print()\n",
    "print(\"Computing accuracy over test set:\")\n",
    "\n",
    "t = tqdm(range(len(X_test)//2), leave=True)\n",
    "for n in t:\n",
    "    x = X_test[n]\n",
    "    pred, prob = cnn.predict(x, 1, 2, 2)\n",
    "    digit_count[int(y_test[n])] += 1\n",
    "    if pred == y_test[n]:\n",
    "        corr += 1\n",
    "        digit_correct[pred] += 1\n",
    "\n",
    "    t.set_description(\"Acc:%0.2f%%\" % (float(corr / (n + 1)) * 100))\n",
    "\n",
    "print(\"Overall Accuracy: %.2f\" % (float(corr / len(test_data) * 2 * 100)))"
   ]
  },
  {
   "cell_type": "code",
   "execution_count": 124,
   "metadata": {},
   "outputs": [
    {
     "name": "stdout",
     "output_type": "stream",
     "text": [
      "Actual Label  8\n",
      "Model Predicted  8\n"
     ]
    },
    {
     "data": {
      "image/png": "[encoded data removed]",
      "text/plain": [
       "<Figure size 800x400 with 1 Axes>"
      ]
     },
     "metadata": {},
     "output_type": "display_data"
    }
   ],
   "source": [
    "random_num = np.random.randint(X_test.shape[0]//2, X_test.shape[0])\n",
    "random_image = X_test[random_num]\n",
    "random_label = int(y_test[random_num])\n",
    "\n",
    "print(\"Actual Label \",random_label)\n",
    "print(\"Model Predicted \",cnn.predict(random_image)[0])\n",
    "Settings.show_img(random_image.reshape(28,28))"
   ]
  }
 ],
 "metadata": {
  "kernelspec": {
   "display_name": "Python 3",
   "language": "python",
   "name": "python3"
  },
  "language_info": {
   "codemirror_mode": {
    "name": "ipython",
    "version": 3
   },
   "file_extension": ".py",
   "mimetype": "text/x-python",
   "name": "python",
   "nbconvert_exporter": "python",
   "pygments_lexer": "ipython3",
   "version": "3.12.2"
  }
 },
 "nbformat": 4,
 "nbformat_minor": 2
}
